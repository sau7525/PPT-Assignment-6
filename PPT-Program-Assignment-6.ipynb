{
 "cells": [
  {
   "cell_type": "code",
   "execution_count": 1,
   "id": "64be451e-77cb-4bad-9bde-58b10503331d",
   "metadata": {},
   "outputs": [],
   "source": [
    "# ANS:1"
   ]
  },
  {
   "cell_type": "code",
   "execution_count": 2,
   "id": "127c4b7d-1fa4-4bf4-b36e-abad8c74057d",
   "metadata": {},
   "outputs": [
    {
     "name": "stdout",
     "output_type": "stream",
     "text": [
      "[0, 4, 1, 3, 2]\n"
     ]
    }
   ],
   "source": [
    "def reconstructPermutation(s):\n",
    "    n = len(s)\n",
    "    perm = []\n",
    "    start, end = 0, n\n",
    "\n",
    "    for c in s:\n",
    "        if c == 'I':\n",
    "            perm.append(start)\n",
    "            start += 1\n",
    "        elif c == 'D':\n",
    "            perm.append(end)\n",
    "            end -= 1\n",
    "\n",
    "    perm.append(start)\n",
    "    return perm\n",
    "\n",
    "s = \"IDID\"\n",
    "reconstructed_permutation = reconstructPermutation(s)\n",
    "print(reconstructed_permutation)"
   ]
  },
  {
   "cell_type": "code",
   "execution_count": 3,
   "id": "4d8834b9-da04-4256-843b-42ec7bccac0c",
   "metadata": {},
   "outputs": [],
   "source": [
    "# ANS:2"
   ]
  },
  {
   "cell_type": "code",
   "execution_count": 4,
   "id": "7390de0c-a20a-46c1-a07f-a820ca355541",
   "metadata": {},
   "outputs": [
    {
     "name": "stdout",
     "output_type": "stream",
     "text": [
      "True\n"
     ]
    }
   ],
   "source": [
    "def searchMatrix(matrix, target):\n",
    "    m, n = len(matrix), len(matrix[0])\n",
    "    left, right = 0, m * n - 1\n",
    "\n",
    "    while left <= right:\n",
    "        mid = (left + right) // 2\n",
    "        num = matrix[mid // n][mid % n]  # Convert 1D index to 2D index\n",
    "\n",
    "        if num == target:\n",
    "            return True\n",
    "        elif num < target:\n",
    "            left = mid + 1\n",
    "        else:\n",
    "            right = mid - 1\n",
    "\n",
    "    return False\n",
    "\n",
    "\n",
    "matrix = [\n",
    "    [1, 3, 5, 7],\n",
    "    [10, 11, 16, 20],\n",
    "    [23, 30, 34, 60]\n",
    "]\n",
    "target = 3\n",
    "\n",
    "result = searchMatrix(matrix, target)\n",
    "print(result)"
   ]
  },
  {
   "cell_type": "code",
   "execution_count": 5,
   "id": "d68e1ee9-f0b7-4fdf-ba60-b309b50f96cb",
   "metadata": {},
   "outputs": [],
   "source": [
    "# ANS:3"
   ]
  },
  {
   "cell_type": "code",
   "execution_count": 6,
   "id": "64e5a55d-e587-4125-b0d7-17f3499f7c04",
   "metadata": {},
   "outputs": [
    {
     "name": "stdout",
     "output_type": "stream",
     "text": [
      "False\n"
     ]
    }
   ],
   "source": [
    "def validMountainArray(arr):\n",
    "    n = len(arr)\n",
    "    if n < 3:\n",
    "        return False\n",
    "\n",
    "    i, j = 0, n - 1\n",
    "\n",
    "    while i < n - 1 and arr[i] < arr[i + 1]:\n",
    "        i += 1\n",
    "\n",
    "    while j > 0 and arr[j] < arr[j - 1]:\n",
    "        j -= 1\n",
    "\n",
    "    if i == j and i != 0 and j != n - 1:\n",
    "        return True\n",
    "\n",
    "    return False\n",
    "\n",
    "\n",
    "arr = [2, 1]\n",
    "result = validMountainArray(arr)\n",
    "print(result)"
   ]
  },
  {
   "cell_type": "code",
   "execution_count": null,
   "id": "ec2897a4-4f3a-4b5f-bfb6-dfe1a118c891",
   "metadata": {},
   "outputs": [],
   "source": [
    "# ANS:4"
   ]
  },
  {
   "cell_type": "code",
   "execution_count": 7,
   "id": "3d5a3504-aaaf-436c-ba88-228d4791a05b",
   "metadata": {},
   "outputs": [
    {
     "name": "stdout",
     "output_type": "stream",
     "text": [
      "2\n"
     ]
    }
   ],
   "source": [
    "def findMaxLength(nums):\n",
    "    max_length = 0\n",
    "    count = 0\n",
    "    seen = {0: -1}\n",
    "\n",
    "    for i in range(len(nums)):\n",
    "        count += 1 if nums[i] == 0 else -1\n",
    "\n",
    "        if count in seen:\n",
    "            length = i - seen[count]\n",
    "            max_length = max(max_length, length)\n",
    "        else:\n",
    "            seen[count] = i\n",
    "\n",
    "    return max_length\n",
    "\n",
    "\n",
    "nums = [0, 1]\n",
    "result = findMaxLength(nums)\n",
    "print(result)"
   ]
  },
  {
   "cell_type": "code",
   "execution_count": 8,
   "id": "f6b5d01e-3e35-48d4-b964-cf01041b431d",
   "metadata": {},
   "outputs": [],
   "source": [
    "# ANS:5"
   ]
  },
  {
   "cell_type": "code",
   "execution_count": 9,
   "id": "290fc227-7a5a-422d-90e1-f7b72dd36a5a",
   "metadata": {},
   "outputs": [
    {
     "name": "stdout",
     "output_type": "stream",
     "text": [
      "40\n"
     ]
    }
   ],
   "source": [
    "def minProductSum(nums1, nums2):\n",
    "    nums1.sort()\n",
    "    nums2.sort(reverse=True)\n",
    "    min_product_sum = 0\n",
    "\n",
    "    for i in range(len(nums1)):\n",
    "        min_product_sum += nums1[i] * nums2[i]\n",
    "\n",
    "    return min_product_sum\n",
    "\n",
    "\n",
    "\n",
    "nums1 = [5, 3, 4, 2]\n",
    "nums2 = [4, 2, 2, 5]\n",
    "result = minProductSum(nums1, nums2)\n",
    "print(result)"
   ]
  },
  {
   "cell_type": "code",
   "execution_count": 10,
   "id": "dbccc72b-5aa0-4f9e-82ee-7f4c5b37e29e",
   "metadata": {},
   "outputs": [],
   "source": [
    "# ANS:6"
   ]
  },
  {
   "cell_type": "code",
   "execution_count": 11,
   "id": "819f8ca0-7bff-4af7-87c1-b503edc9b230",
   "metadata": {},
   "outputs": [
    {
     "name": "stdout",
     "output_type": "stream",
     "text": [
      "40\n"
     ]
    }
   ],
   "source": [
    "def minProductSum(nums1, nums2):\n",
    "    nums1.sort()\n",
    "    nums2.sort(reverse=True)\n",
    "    min_product_sum = 0\n",
    "\n",
    "    for i in range(len(nums1)):\n",
    "        min_product_sum += nums1[i] * nums2[i]\n",
    "\n",
    "    return min_product_sum\n",
    "\n",
    "\n",
    "\n",
    "nums1 = [5, 3, 4, 2]\n",
    "nums2 = [4, 2, 2, 5]\n",
    "result = minProductSum(nums1, nums2)\n",
    "print(result)"
   ]
  },
  {
   "cell_type": "code",
   "execution_count": 12,
   "id": "24840809-6ed2-4449-99b2-bfec54f0d99d",
   "metadata": {},
   "outputs": [],
   "source": [
    "# ANS:7"
   ]
  },
  {
   "cell_type": "code",
   "execution_count": 13,
   "id": "4ec80ea3-4ed3-47e6-b317-dd9f69c10b91",
   "metadata": {},
   "outputs": [
    {
     "data": {
      "text/plain": [
       "[[1, 2, 3], [8, 9, 4], [7, 6, 5]]"
      ]
     },
     "execution_count": 13,
     "metadata": {},
     "output_type": "execute_result"
    }
   ],
   "source": [
    "n = 3\n",
    "def generateMatrix(n: int) -> list[list[int]]:\n",
    "        matrix = [[0]*n for _ in range(n)]\n",
    "        r, c, dr, dc = 0, 0, 0, 1\n",
    "        for current in range(1, n*n + 1):\n",
    "            matrix[r][c] = current\n",
    "            if not (0 <= r + dr < n and 0 <= c + dc < n and matrix[r + dr][c + dc] == 0):\n",
    "                dr, dc = dc, -dr\n",
    "            r += dr\n",
    "            c += dc\n",
    "        return matrix\n",
    "generateMatrix(3)"
   ]
  },
  {
   "cell_type": "code",
   "execution_count": 14,
   "id": "387e03a9-fc24-420c-9e68-f8ab434cd710",
   "metadata": {},
   "outputs": [],
   "source": [
    "# ANS:8"
   ]
  },
  {
   "cell_type": "code",
   "execution_count": 15,
   "id": "09c960d0-af6e-4e7d-bf02-cdb561b7b556",
   "metadata": {},
   "outputs": [
    {
     "data": {
      "text/plain": [
       "[[7, 0, 0], [-7, 0, 3]]"
      ]
     },
     "execution_count": 15,
     "metadata": {},
     "output_type": "execute_result"
    }
   ],
   "source": [
    "mat1 = [[1,0,0],[-1,0,3]]\n",
    "mat2 = [[7,0,0],[0,0,0],[0,0,1]]\n",
    "def multiply(mat1: list[list[int]], mat2: list[list[int]]) -> list[list[int]]:\n",
    "  \n",
    "  m = len(mat1)\n",
    "  n = len(mat2)\n",
    "  l = len(mat2[0])\n",
    "  ans = [[0] * l for _ in range(m)]\n",
    "  nonZeroColIndicesInMat2 = [\n",
    "      [j for j, a in enumerate(row) if a]\n",
    "      for row in mat2\n",
    "  ]\n",
    "\n",
    "  for i in range(m):\n",
    "    for j, a in enumerate(mat1[i]):\n",
    "      if a == 0:\n",
    "        continue\n",
    "      \n",
    "      for colIndex in nonZeroColIndicesInMat2[j]:\n",
    "        ans[i][colIndex] += a * mat2[j][colIndex]\n",
    "\n",
    "  return ans\n",
    "multiply(mat1, mat2)"
   ]
  },
  {
   "cell_type": "code",
   "execution_count": null,
   "id": "8ebd988f-f454-464b-8a21-61179477ec0e",
   "metadata": {},
   "outputs": [],
   "source": []
  }
 ],
 "metadata": {
  "kernelspec": {
   "display_name": "Python 3 (ipykernel)",
   "language": "python",
   "name": "python3"
  },
  "language_info": {
   "codemirror_mode": {
    "name": "ipython",
    "version": 3
   },
   "file_extension": ".py",
   "mimetype": "text/x-python",
   "name": "python",
   "nbconvert_exporter": "python",
   "pygments_lexer": "ipython3",
   "version": "3.10.8"
  }
 },
 "nbformat": 4,
 "nbformat_minor": 5
}
